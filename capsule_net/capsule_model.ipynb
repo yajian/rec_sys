{
 "cells": [
  {
   "cell_type": "code",
   "execution_count": 1,
   "metadata": {},
   "outputs": [],
   "source": [
    "import os\n",
    "import tensorflow.compat.v1 as tf\n",
    "import numpy as np \n",
    "os.environ['CUDA_VISIBLE_DEVICES'] = '1'\n",
    "tf.compat.v1.disable_eager_execution()"
   ]
  },
  {
   "cell_type": "code",
   "execution_count": 2,
   "metadata": {},
   "outputs": [],
   "source": [
    "batch_size = 128\n",
    "iter_routing = 3\n",
    "m_plus = 0.9\n",
    "m_minus = 0.1\n",
    "lambda_val = 0.5\n",
    "regularization_scale = 0.392\n",
    "epoch = 50\n",
    "val_sum_freq = 500"
   ]
  },
  {
   "cell_type": "code",
   "execution_count": 3,
   "metadata": {},
   "outputs": [],
   "source": [
    "x_input = tf.placeholder(tf.float32, shape=[batch_size, 28, 28, 1], name='x_input')\n",
    "y_input = tf.placeholder(tf.int32, shape= [batch_size, ], name='y_input')\n",
    "y_onehot = tf.one_hot(y_input, depth=10, axis=1, dtype=tf.float32)"
   ]
  },
  {
   "cell_type": "code",
   "execution_count": 4,
   "metadata": {},
   "outputs": [],
   "source": [
    "def squash(vector):\n",
    "    # vector的形状为[batch_size, num_caps, vec_len, 1]\n",
    "    # 这里是squash函数的实现\n",
    "    vec_squared_norm = tf.reduce_sum(tf.square(vector), axis=-2, keepdims=True)\n",
    "    scalar_factor = vec_squared_norm / (\n",
    "        1 + vec_squared_norm) / tf.sqrt(vec_squared_norm + 1e-6)\n",
    "    vec_squashed = scalar_factor * vector\n",
    "    return (vec_squashed)"
   ]
  },
  {
   "cell_type": "code",
   "execution_count": 5,
   "metadata": {},
   "outputs": [],
   "source": [
    "def get_shape(inputs, name=None):\n",
    "    name = \"shape\" if name is None else name\n",
    "    with tf.name_scope(name):\n",
    "        static_shape = inputs.get_shape().as_list()\n",
    "        dynamic_shape = tf.shape(inputs)\n",
    "        shape = []\n",
    "        for i, dim in enumerate(static_shape):\n",
    "            dim = dim if dim is not None else dynamic_shape[i]\n",
    "            shape.append(dim)\n",
    "        return(shape)"
   ]
  },
  {
   "cell_type": "code",
   "execution_count": 6,
   "metadata": {},
   "outputs": [],
   "source": [
    "def routing(input, b_IJ, num_outputs=10, num_dims=16):\n",
    "    input_shape = get_shape(input)\n",
    "    # [1, num_caps_i, num_caps_j * len_v_j, len_u_j, 1]\n",
    "    W = tf.get_variable('weight',\n",
    "                        shape=[1, input_shape[1], num_dims * num_outputs] +\n",
    "                        input_shape[-2:],\n",
    "                        dtype=tf.float32,\n",
    "                        initializer=tf.random_normal_initializer(stddev=0.01))\n",
    "    biases = tf.get_variable('bias', shape=(1, 1, num_outputs, num_dims, 1))\n",
    "    # 计算u_hat\n",
    "    input = tf.tile(input, [1, 1, num_dims * num_outputs, 1, 1])\n",
    "    u_hat = tf.reduce_sum(W * input, axis=3, keepdims=True)\n",
    "    u_hat = tf.reshape(u_hat,\n",
    "                       shape=[-1, input_shape[1], num_outputs, num_dims, 1])\n",
    "    u_hat_stopped = tf.stop_gradient(u_hat, name='stop_gradient')\n",
    "    for i in range(iter_routing):\n",
    "        with tf.variable_scope('iter_' + str(i)):\n",
    "            c_IJ = tf.nn.softmax(b_IJ, axis=2)\n",
    "            if i == iter_routing - 1:\n",
    "                s_J = tf.multiply(c_IJ, u_hat)\n",
    "                s_J = tf.reduce_sum(s_J, axis=1, keepdims=True) + biases\n",
    "                v_J = squash(s_J)\n",
    "            elif i < iter_routing - 1:\n",
    "                s_J = tf.multiply(c_IJ, u_hat_stopped)\n",
    "                s_J = tf.reduce_sum(s_J, axis=1, keepdims=True) + biases\n",
    "                v_J = squash(s_J)\n",
    "\n",
    "                v_J_tiled = tf.tile(v_J, [1, input_shape[1], 1, 1, 1])\n",
    "                u_produce_v = tf.reduce_sum(u_hat_stopped * v_J_tiled,\n",
    "                                            axis=3,\n",
    "                                            keepdims=True)\n",
    "                b_IJ = u_produce_v\n",
    "    return v_J"
   ]
  },
  {
   "cell_type": "code",
   "execution_count": 7,
   "metadata": {},
   "outputs": [
    {
     "name": "stdout",
     "output_type": "stream",
     "text": [
      "WARNING:tensorflow:From <ipython-input-7-9d157c16a586>:7: conv2d (from tensorflow.python.layers.convolutional) is deprecated and will be removed in a future version.\n",
      "Instructions for updating:\n",
      "Use `tf.keras.layers.Conv2D` instead.\n",
      "WARNING:tensorflow:From /data00/home/huangyajian/miniconda3/lib/python3.7/site-packages/tensorflow/python/layers/convolutional.py:424: Layer.apply (from tensorflow.python.keras.engine.base_layer_v1) is deprecated and will be removed in a future version.\n",
      "Instructions for updating:\n",
      "Please use `layer.__call__` method instead.\n",
      "WARNING:tensorflow:From /data00/home/huangyajian/miniconda3/lib/python3.7/site-packages/tensorflow/python/ops/resource_variable_ops.py:1666: calling BaseResourceVariable.__init__ (from tensorflow.python.ops.resource_variable_ops) with constraint is deprecated and will be removed in a future version.\n",
      "Instructions for updating:\n",
      "If using Keras pass *_constraint arguments to layers.\n",
      "WARNING:tensorflow:From <ipython-input-7-9d157c16a586>:38: to_int32 (from tensorflow.python.ops.math_ops) is deprecated and will be removed in a future version.\n",
      "Instructions for updating:\n",
      "Use `tf.cast` instead.\n",
      "WARNING:tensorflow:From <ipython-input-7-9d157c16a586>:49: dense (from tensorflow.python.layers.core) is deprecated and will be removed in a future version.\n",
      "Instructions for updating:\n",
      "Use keras.layers.Dense instead.\n"
     ]
    }
   ],
   "source": [
    "with tf.variable_scope('conv1_layer'):\n",
    "    # conv1 的形状为[batch_size, 20, 20, 256]\n",
    "    conv1 = tf.layers.conv2d(x_input,\n",
    "                             filters=256,\n",
    "                             kernel_size=9,\n",
    "                             strides=1,\n",
    "                             padding='valid')\n",
    "with tf.variable_scope('primarycaps_layer'):\n",
    "    # 这步输出形状[batch_size, 6, 6, 256]\n",
    "    capsules = tf.layers.conv2d(conv1,\n",
    "                                filters=32 * 8,\n",
    "                                kernel_size=9,\n",
    "                                strides=2,\n",
    "                                padding='valid',\n",
    "                                activation=tf.nn.relu)\n",
    "    # 这步输出形状[batch_size, 1152, 8, 1]，相当于1152个胶囊\n",
    "    capsules = tf.reshape(capsules, (batch_size, -1, 8, 1))\n",
    "    # 这步输出形状[batch_size, 1152, 8, 1]\n",
    "    caps1 = squash(capsules)\n",
    "with tf.variable_scope('digitcaps_layer'):\n",
    "    # 这步输出形状[batch_size, 1152, 1, 8, 1]\n",
    "    digitcaps_input = tf.reshape(caps1,\n",
    "                                 shape=(batch_size, -1, 1, caps1.shape[-2], 1))\n",
    "    with tf.variable_scope('routing'):\n",
    "        # 这步输出形状[batch_size, num_caps_l, num_caps_l_plus_1, 1, 1]\n",
    "        b_IJ = tf.constant(\n",
    "            np.zeros([batch_size, caps1.shape[1], 10, 1, 1], dtype=np.float32))\n",
    "        # 这步输出形状[128, 1, 10, 16, 1]\n",
    "        capsules = routing(digitcaps_input, b_IJ, num_outputs=10, num_dims=16)\n",
    "        # 这步输出形状[batch_size, 10, 16, 1]\n",
    "        caps2 = tf.squeeze(capsules, axis=1)\n",
    "with tf.variable_scope('masking'):\n",
    "    # [batch_size, 10, 16, 1] => [batch_size, 10, 1, 1]\n",
    "    v_length = tf.sqrt(\n",
    "        tf.reduce_sum(tf.square(caps2), axis=2, keepdims=True) + 1e-9)\n",
    "    # (128, 10, 1, 1)\n",
    "    softmax_v = tf.nn.softmax(v_length, axis=1)\n",
    "    argmax_idx = tf.to_int32(tf.argmax(softmax_v, axis=1))\n",
    "    argmax_idx = tf.reshape(argmax_idx, shape=(batch_size, ))\n",
    "    masked_v = tf.multiply(\n",
    "        tf.squeeze(caps2),\n",
    "        tf.reshape(y_onehot,\n",
    "                   (-1, 10, 1)))\n",
    "    # 这步输出形状[128, 10, 1, 1]\n",
    "    v_length = tf.sqrt(\n",
    "        tf.reduce_sum(tf.square(caps2), axis=2, keepdims=True) + 1e-9)\n",
    "with tf.variable_scope('decoder'):\n",
    "    vector_j = tf.reshape(masked_v, shape=(batch_size, -1))\n",
    "    fc1 = tf.layers.dense(vector_j, units=512, activation=tf.nn.relu)\n",
    "    fc2 = tf.layers.dense(fc1, units=1024)\n",
    "    decoded = tf.layers.dense(fc2,\n",
    "                              units=28 * 28 * 1,\n",
    "                              activation=tf.nn.sigmoid)"
   ]
  },
  {
   "cell_type": "code",
   "execution_count": 8,
   "metadata": {},
   "outputs": [],
   "source": [
    "# loss\n",
    "## margin loss\n",
    "max_l = tf.square(tf.maximum(0., m_plus - v_length))\n",
    "max_r = tf.square(tf.maximum(0., v_length - m_minus))\n",
    "max_l = tf.reshape(max_l, shape=(batch_size, -1))\n",
    "max_r = tf.reshape(max_r, shape=(batch_size, -1))\n",
    "T_c = tf.reshape(y_onehot, shape=(batch_size, -1))\n",
    "L_c = T_c * max_l + lambda_val * (1 - T_c) * max_r\n",
    "margin_loss = tf.reduce_mean(tf.reduce_sum(L_c, axis=1))\n",
    "## reconstruction loss\n",
    "origin = tf.reshape(x_input, shape=(batch_size, -1))\n",
    "squared = tf.square(decoded - origin)\n",
    "reconstruction_err = tf.reduce_mean(squared)\n",
    "total_loss = margin_loss + regularization_scale * reconstruction_err\n",
    "train_op = tf.train.AdamOptimizer().minimize(total_loss)"
   ]
  },
  {
   "cell_type": "code",
   "execution_count": 9,
   "metadata": {},
   "outputs": [
    {
     "name": "stdout",
     "output_type": "stream",
     "text": [
      "(128,)\n"
     ]
    }
   ],
   "source": [
    "# accuracy\n",
    "correct_prediction = tf.equal(tf.to_int32(y_input), argmax_idx)\n",
    "print(correct_prediction.get_shape())\n",
    "accuracy = tf.reduce_sum(tf.cast(correct_prediction, tf.float32))"
   ]
  },
  {
   "cell_type": "code",
   "execution_count": 10,
   "metadata": {},
   "outputs": [],
   "source": [
    "def load_mnist(batch_size, is_training=True):\n",
    "    path = os.path.join('data','mnist')\n",
    "    if is_training:\n",
    "        fd = open(os.path.join(path, 'train-images-idx3-ubyte'))\n",
    "        loaded = np.fromfile(file=fd, dtype=np.uint8)\n",
    "        trainX = loaded[16:].reshape((60000, 28, 28, 1)).astype(np.float32)\n",
    "        fd = open(os.path.join(path, 'train-labels-idx1-ubyte'))\n",
    "        loaded = np.fromfile(file=fd, dtype=np.uint8)\n",
    "        trainY = loaded[8:].reshape((60000)).astype(np.int32)\n",
    "\n",
    "        trX = trainX[:55000] / 255.\n",
    "        trY = trainY[:55000]\n",
    "\n",
    "        valX = trainX[55000:, ] / 255.\n",
    "        valY = trainY[55000:]\n",
    "\n",
    "        num_tr_batch = 55000 // batch_size\n",
    "        num_val_batch = 5000 // batch_size\n",
    "\n",
    "        return trX, trY, num_tr_batch, valX, valY, num_val_batch\n",
    "    else:\n",
    "        fd = open(os.path.join(path, 't10k-images-idx3-ubyte'))\n",
    "        loaded = np.fromfile(file=fd, dtype=np.uint8)\n",
    "        teX = loaded[16:].reshape((10000, 28, 28, 1)).astype(np.float)\n",
    "\n",
    "        fd = open(os.path.join(path, 't10k-labels-idx1-ubyte'))\n",
    "        loaded = np.fromfile(file=fd, dtype=np.uint8)\n",
    "        teY = loaded[8:].reshape((10000)).astype(np.int32)\n",
    "\n",
    "        num_te_batch = 10000 // batch_size\n",
    "        return teX / 255., teY, num_te_batch"
   ]
  },
  {
   "cell_type": "code",
   "execution_count": 11,
   "metadata": {},
   "outputs": [
    {
     "name": "stdout",
     "output_type": "stream",
     "text": [
      "[5 0 4 ... 0 4 0]\n"
     ]
    }
   ],
   "source": [
    "trX, trY, num_tr_batch, valX, valY, num_val_batch = load_mnist(\n",
    "    batch_size, is_training=True)\n",
    "print(trY)"
   ]
  },
  {
   "cell_type": "code",
   "execution_count": 12,
   "metadata": {},
   "outputs": [
    {
     "name": "stdout",
     "output_type": "stream",
     "text": [
      "train--  i:  0 step:  0 loss:  0.6515322\n",
      "train--  i:  0 step:  20 loss:  0.16547106\n",
      "train--  i:  0 step:  40 loss:  0.13412395\n",
      "train--  i:  0 step:  60 loss:  0.10704443\n",
      "train--  i:  0 step:  80 loss:  0.11876654\n",
      "train--  i:  0 step:  100 loss:  0.082290396\n",
      "train--  i:  0 step:  120 loss:  0.06788447\n",
      "train--  i:  0 step:  140 loss:  0.064370625\n",
      "train--  i:  0 step:  160 loss:  0.050058324\n",
      "train--  i:  0 step:  180 loss:  0.06635042\n",
      "train--  i:  0 step:  200 loss:  0.059301212\n",
      "train--  i:  0 step:  220 loss:  0.05640088\n",
      "train--  i:  0 step:  240 loss:  0.052899007\n",
      "train--  i:  0 step:  260 loss:  0.05980049\n",
      "train--  i:  0 step:  280 loss:  0.05478416\n",
      "train--  i:  0 step:  300 loss:  0.050402783\n",
      "train--  i:  0 step:  320 loss:  0.0560572\n",
      "train--  i:  0 step:  340 loss:  0.04512105\n",
      "train--  i:  0 step:  360 loss:  0.050112695\n",
      "train--  i:  0 step:  380 loss:  0.041668862\n",
      "train--  i:  0 step:  400 loss:  0.07171888\n",
      "train--  i:  0 step:  420 loss:  0.045154043\n",
      "train--  i:  1 step:  0 loss:  0.043227248\n",
      "train--  i:  1 step:  20 loss:  0.044867408\n",
      "train--  i:  1 step:  40 loss:  0.04883568\n",
      "train--  i:  1 step:  60 loss:  0.046234153\n",
      "val acc:  0.9829727564102564\n",
      "train--  i:  1 step:  80 loss:  0.069328345\n",
      "train--  i:  1 step:  100 loss:  0.045718934\n",
      "train--  i:  1 step:  120 loss:  0.0422968\n",
      "train--  i:  1 step:  140 loss:  0.037945956\n",
      "train--  i:  1 step:  160 loss:  0.031943627\n",
      "train--  i:  1 step:  180 loss:  0.04092861\n",
      "train--  i:  1 step:  200 loss:  0.04643142\n",
      "train--  i:  1 step:  220 loss:  0.04172477\n",
      "train--  i:  1 step:  240 loss:  0.03633424\n",
      "train--  i:  1 step:  260 loss:  0.04550124\n",
      "train--  i:  1 step:  280 loss:  0.039806567\n",
      "train--  i:  1 step:  300 loss:  0.03682794\n",
      "train--  i:  1 step:  320 loss:  0.039199226\n",
      "train--  i:  1 step:  340 loss:  0.034420118\n",
      "train--  i:  1 step:  360 loss:  0.033158794\n",
      "train--  i:  1 step:  380 loss:  0.030076927\n",
      "train--  i:  1 step:  400 loss:  0.051487718\n",
      "train--  i:  1 step:  420 loss:  0.03559748\n",
      "train--  i:  2 step:  0 loss:  0.032578498\n",
      "train--  i:  2 step:  20 loss:  0.033581883\n",
      "train--  i:  2 step:  40 loss:  0.037348814\n",
      "train--  i:  2 step:  60 loss:  0.033671007\n",
      "train--  i:  2 step:  80 loss:  0.057344437\n",
      "train--  i:  2 step:  100 loss:  0.034299415\n",
      "train--  i:  2 step:  120 loss:  0.033618256\n",
      "train--  i:  2 step:  140 loss:  0.030578692\n",
      "val acc:  0.9879807692307693\n",
      "train--  i:  2 step:  160 loss:  0.02445617\n",
      "train--  i:  2 step:  180 loss:  0.0318883\n",
      "train--  i:  2 step:  200 loss:  0.039174423\n",
      "train--  i:  2 step:  220 loss:  0.03254035\n"
     ]
    },
    {
     "ename": "KeyboardInterrupt",
     "evalue": "",
     "output_type": "error",
     "traceback": [
      "\u001b[0;31m---------------------------------------------------------------------------\u001b[0m",
      "\u001b[0;31mKeyboardInterrupt\u001b[0m                         Traceback (most recent call last)",
      "\u001b[0;32m<ipython-input-12-a7df6255acbe>\u001b[0m in \u001b[0;36m<module>\u001b[0;34m\u001b[0m\n\u001b[1;32m     10\u001b[0m             \u001b[0mtrain_y\u001b[0m \u001b[0;34m=\u001b[0m \u001b[0mtrY\u001b[0m\u001b[0;34m[\u001b[0m\u001b[0mstart\u001b[0m\u001b[0;34m:\u001b[0m\u001b[0mend\u001b[0m\u001b[0;34m]\u001b[0m\u001b[0;34m\u001b[0m\u001b[0;34m\u001b[0m\u001b[0m\n\u001b[1;32m     11\u001b[0m             \u001b[0mfeed_dict\u001b[0m \u001b[0;34m=\u001b[0m \u001b[0;34m{\u001b[0m\u001b[0mx_input\u001b[0m\u001b[0;34m:\u001b[0m \u001b[0mtrain_x\u001b[0m\u001b[0;34m,\u001b[0m \u001b[0my_input\u001b[0m\u001b[0;34m:\u001b[0m \u001b[0mtrain_y\u001b[0m\u001b[0;34m}\u001b[0m\u001b[0;34m\u001b[0m\u001b[0;34m\u001b[0m\u001b[0m\n\u001b[0;32m---> 12\u001b[0;31m             \u001b[0ml\u001b[0m\u001b[0;34m,\u001b[0m \u001b[0mo\u001b[0m \u001b[0;34m=\u001b[0m \u001b[0msess\u001b[0m\u001b[0;34m.\u001b[0m\u001b[0mrun\u001b[0m\u001b[0;34m(\u001b[0m\u001b[0;34m[\u001b[0m\u001b[0mtotal_loss\u001b[0m\u001b[0;34m,\u001b[0m \u001b[0mtrain_op\u001b[0m\u001b[0;34m]\u001b[0m\u001b[0;34m,\u001b[0m \u001b[0mfeed_dict\u001b[0m\u001b[0;34m)\u001b[0m\u001b[0;34m\u001b[0m\u001b[0;34m\u001b[0m\u001b[0m\n\u001b[0m\u001b[1;32m     13\u001b[0m             \u001b[0;32mif\u001b[0m \u001b[0mstep\u001b[0m \u001b[0;34m%\u001b[0m \u001b[0;36m20\u001b[0m \u001b[0;34m==\u001b[0m \u001b[0;36m0\u001b[0m\u001b[0;34m:\u001b[0m\u001b[0;34m\u001b[0m\u001b[0;34m\u001b[0m\u001b[0m\n\u001b[1;32m     14\u001b[0m                 \u001b[0mprint\u001b[0m\u001b[0;34m(\u001b[0m\u001b[0;34m'train-- '\u001b[0m\u001b[0;34m,\u001b[0m \u001b[0;34m'i: '\u001b[0m\u001b[0;34m,\u001b[0m \u001b[0mi\u001b[0m\u001b[0;34m,\u001b[0m \u001b[0;34m'step: '\u001b[0m\u001b[0;34m,\u001b[0m \u001b[0mstep\u001b[0m\u001b[0;34m,\u001b[0m \u001b[0;34m'loss: '\u001b[0m\u001b[0;34m,\u001b[0m \u001b[0ml\u001b[0m\u001b[0;34m)\u001b[0m\u001b[0;34m\u001b[0m\u001b[0;34m\u001b[0m\u001b[0m\n",
      "\u001b[0;32m~/miniconda3/lib/python3.7/site-packages/tensorflow/python/client/session.py\u001b[0m in \u001b[0;36mrun\u001b[0;34m(self, fetches, feed_dict, options, run_metadata)\u001b[0m\n\u001b[1;32m    956\u001b[0m     \u001b[0;32mtry\u001b[0m\u001b[0;34m:\u001b[0m\u001b[0;34m\u001b[0m\u001b[0;34m\u001b[0m\u001b[0m\n\u001b[1;32m    957\u001b[0m       result = self._run(None, fetches, feed_dict, options_ptr,\n\u001b[0;32m--> 958\u001b[0;31m                          run_metadata_ptr)\n\u001b[0m\u001b[1;32m    959\u001b[0m       \u001b[0;32mif\u001b[0m \u001b[0mrun_metadata\u001b[0m\u001b[0;34m:\u001b[0m\u001b[0;34m\u001b[0m\u001b[0;34m\u001b[0m\u001b[0m\n\u001b[1;32m    960\u001b[0m         \u001b[0mproto_data\u001b[0m \u001b[0;34m=\u001b[0m \u001b[0mtf_session\u001b[0m\u001b[0;34m.\u001b[0m\u001b[0mTF_GetBuffer\u001b[0m\u001b[0;34m(\u001b[0m\u001b[0mrun_metadata_ptr\u001b[0m\u001b[0;34m)\u001b[0m\u001b[0;34m\u001b[0m\u001b[0;34m\u001b[0m\u001b[0m\n",
      "\u001b[0;32m~/miniconda3/lib/python3.7/site-packages/tensorflow/python/client/session.py\u001b[0m in \u001b[0;36m_run\u001b[0;34m(self, handle, fetches, feed_dict, options, run_metadata)\u001b[0m\n\u001b[1;32m   1179\u001b[0m     \u001b[0;32mif\u001b[0m \u001b[0mfinal_fetches\u001b[0m \u001b[0;32mor\u001b[0m \u001b[0mfinal_targets\u001b[0m \u001b[0;32mor\u001b[0m \u001b[0;34m(\u001b[0m\u001b[0mhandle\u001b[0m \u001b[0;32mand\u001b[0m \u001b[0mfeed_dict_tensor\u001b[0m\u001b[0;34m)\u001b[0m\u001b[0;34m:\u001b[0m\u001b[0;34m\u001b[0m\u001b[0;34m\u001b[0m\u001b[0m\n\u001b[1;32m   1180\u001b[0m       results = self._do_run(handle, final_targets, final_fetches,\n\u001b[0;32m-> 1181\u001b[0;31m                              feed_dict_tensor, options, run_metadata)\n\u001b[0m\u001b[1;32m   1182\u001b[0m     \u001b[0;32melse\u001b[0m\u001b[0;34m:\u001b[0m\u001b[0;34m\u001b[0m\u001b[0;34m\u001b[0m\u001b[0m\n\u001b[1;32m   1183\u001b[0m       \u001b[0mresults\u001b[0m \u001b[0;34m=\u001b[0m \u001b[0;34m[\u001b[0m\u001b[0;34m]\u001b[0m\u001b[0;34m\u001b[0m\u001b[0;34m\u001b[0m\u001b[0m\n",
      "\u001b[0;32m~/miniconda3/lib/python3.7/site-packages/tensorflow/python/client/session.py\u001b[0m in \u001b[0;36m_do_run\u001b[0;34m(self, handle, target_list, fetch_list, feed_dict, options, run_metadata)\u001b[0m\n\u001b[1;32m   1357\u001b[0m     \u001b[0;32mif\u001b[0m \u001b[0mhandle\u001b[0m \u001b[0;32mis\u001b[0m \u001b[0;32mNone\u001b[0m\u001b[0;34m:\u001b[0m\u001b[0;34m\u001b[0m\u001b[0;34m\u001b[0m\u001b[0m\n\u001b[1;32m   1358\u001b[0m       return self._do_call(_run_fn, feeds, fetches, targets, options,\n\u001b[0;32m-> 1359\u001b[0;31m                            run_metadata)\n\u001b[0m\u001b[1;32m   1360\u001b[0m     \u001b[0;32melse\u001b[0m\u001b[0;34m:\u001b[0m\u001b[0;34m\u001b[0m\u001b[0;34m\u001b[0m\u001b[0m\n\u001b[1;32m   1361\u001b[0m       \u001b[0;32mreturn\u001b[0m \u001b[0mself\u001b[0m\u001b[0;34m.\u001b[0m\u001b[0m_do_call\u001b[0m\u001b[0;34m(\u001b[0m\u001b[0m_prun_fn\u001b[0m\u001b[0;34m,\u001b[0m \u001b[0mhandle\u001b[0m\u001b[0;34m,\u001b[0m \u001b[0mfeeds\u001b[0m\u001b[0;34m,\u001b[0m \u001b[0mfetches\u001b[0m\u001b[0;34m)\u001b[0m\u001b[0;34m\u001b[0m\u001b[0;34m\u001b[0m\u001b[0m\n",
      "\u001b[0;32m~/miniconda3/lib/python3.7/site-packages/tensorflow/python/client/session.py\u001b[0m in \u001b[0;36m_do_call\u001b[0;34m(self, fn, *args)\u001b[0m\n\u001b[1;32m   1363\u001b[0m   \u001b[0;32mdef\u001b[0m \u001b[0m_do_call\u001b[0m\u001b[0;34m(\u001b[0m\u001b[0mself\u001b[0m\u001b[0;34m,\u001b[0m \u001b[0mfn\u001b[0m\u001b[0;34m,\u001b[0m \u001b[0;34m*\u001b[0m\u001b[0margs\u001b[0m\u001b[0;34m)\u001b[0m\u001b[0;34m:\u001b[0m\u001b[0;34m\u001b[0m\u001b[0;34m\u001b[0m\u001b[0m\n\u001b[1;32m   1364\u001b[0m     \u001b[0;32mtry\u001b[0m\u001b[0;34m:\u001b[0m\u001b[0;34m\u001b[0m\u001b[0;34m\u001b[0m\u001b[0m\n\u001b[0;32m-> 1365\u001b[0;31m       \u001b[0;32mreturn\u001b[0m \u001b[0mfn\u001b[0m\u001b[0;34m(\u001b[0m\u001b[0;34m*\u001b[0m\u001b[0margs\u001b[0m\u001b[0;34m)\u001b[0m\u001b[0;34m\u001b[0m\u001b[0;34m\u001b[0m\u001b[0m\n\u001b[0m\u001b[1;32m   1366\u001b[0m     \u001b[0;32mexcept\u001b[0m \u001b[0merrors\u001b[0m\u001b[0;34m.\u001b[0m\u001b[0mOpError\u001b[0m \u001b[0;32mas\u001b[0m \u001b[0me\u001b[0m\u001b[0;34m:\u001b[0m\u001b[0;34m\u001b[0m\u001b[0;34m\u001b[0m\u001b[0m\n\u001b[1;32m   1367\u001b[0m       \u001b[0mmessage\u001b[0m \u001b[0;34m=\u001b[0m \u001b[0mcompat\u001b[0m\u001b[0;34m.\u001b[0m\u001b[0mas_text\u001b[0m\u001b[0;34m(\u001b[0m\u001b[0me\u001b[0m\u001b[0;34m.\u001b[0m\u001b[0mmessage\u001b[0m\u001b[0;34m)\u001b[0m\u001b[0;34m\u001b[0m\u001b[0;34m\u001b[0m\u001b[0m\n",
      "\u001b[0;32m~/miniconda3/lib/python3.7/site-packages/tensorflow/python/client/session.py\u001b[0m in \u001b[0;36m_run_fn\u001b[0;34m(feed_dict, fetch_list, target_list, options, run_metadata)\u001b[0m\n\u001b[1;32m   1348\u001b[0m       \u001b[0mself\u001b[0m\u001b[0;34m.\u001b[0m\u001b[0m_extend_graph\u001b[0m\u001b[0;34m(\u001b[0m\u001b[0;34m)\u001b[0m\u001b[0;34m\u001b[0m\u001b[0;34m\u001b[0m\u001b[0m\n\u001b[1;32m   1349\u001b[0m       return self._call_tf_sessionrun(options, feed_dict, fetch_list,\n\u001b[0;32m-> 1350\u001b[0;31m                                       target_list, run_metadata)\n\u001b[0m\u001b[1;32m   1351\u001b[0m \u001b[0;34m\u001b[0m\u001b[0m\n\u001b[1;32m   1352\u001b[0m     \u001b[0;32mdef\u001b[0m \u001b[0m_prun_fn\u001b[0m\u001b[0;34m(\u001b[0m\u001b[0mhandle\u001b[0m\u001b[0;34m,\u001b[0m \u001b[0mfeed_dict\u001b[0m\u001b[0;34m,\u001b[0m \u001b[0mfetch_list\u001b[0m\u001b[0;34m)\u001b[0m\u001b[0;34m:\u001b[0m\u001b[0;34m\u001b[0m\u001b[0;34m\u001b[0m\u001b[0m\n",
      "\u001b[0;32m~/miniconda3/lib/python3.7/site-packages/tensorflow/python/client/session.py\u001b[0m in \u001b[0;36m_call_tf_sessionrun\u001b[0;34m(self, options, feed_dict, fetch_list, target_list, run_metadata)\u001b[0m\n\u001b[1;32m   1441\u001b[0m     return tf_session.TF_SessionRun_wrapper(self._session, options, feed_dict,\n\u001b[1;32m   1442\u001b[0m                                             \u001b[0mfetch_list\u001b[0m\u001b[0;34m,\u001b[0m \u001b[0mtarget_list\u001b[0m\u001b[0;34m,\u001b[0m\u001b[0;34m\u001b[0m\u001b[0;34m\u001b[0m\u001b[0m\n\u001b[0;32m-> 1443\u001b[0;31m                                             run_metadata)\n\u001b[0m\u001b[1;32m   1444\u001b[0m \u001b[0;34m\u001b[0m\u001b[0m\n\u001b[1;32m   1445\u001b[0m   \u001b[0;32mdef\u001b[0m \u001b[0m_call_tf_sessionprun\u001b[0m\u001b[0;34m(\u001b[0m\u001b[0mself\u001b[0m\u001b[0;34m,\u001b[0m \u001b[0mhandle\u001b[0m\u001b[0;34m,\u001b[0m \u001b[0mfeed_dict\u001b[0m\u001b[0;34m,\u001b[0m \u001b[0mfetch_list\u001b[0m\u001b[0;34m)\u001b[0m\u001b[0;34m:\u001b[0m\u001b[0;34m\u001b[0m\u001b[0;34m\u001b[0m\u001b[0m\n",
      "\u001b[0;31mKeyboardInterrupt\u001b[0m: "
     ]
    }
   ],
   "source": [
    "with tf.Session() as sess:\n",
    "    sess.run(tf.global_variables_initializer())\n",
    "    for i in range(epoch):\n",
    "        for step in range(num_tr_batch):\n",
    "            start = step * batch_size\n",
    "            end = start + batch_size\n",
    "            end = end if end < len(trX) else len(trX)\n",
    "            global_step = i * num_tr_batch + step\n",
    "            train_x = trX[start:end]\n",
    "            train_y = trY[start:end]\n",
    "            feed_dict = {x_input: train_x, y_input: train_y}\n",
    "            l, o = sess.run([total_loss, train_op], feed_dict)\n",
    "            if step % 20 == 0:\n",
    "                print('train-- ', 'i: ', i, 'step: ', step, 'loss: ', l)\n",
    "            if global_step!=0 and global_step % val_sum_freq == 0:\n",
    "                val_acc = 0\n",
    "                for j in range(num_val_batch):\n",
    "                    val_start = j * batch_size\n",
    "                    val_end = val_start + batch_size\n",
    "                    val_end = val_end if val_end < len(valX) else len(valX)\n",
    "                    acc = sess.run(\n",
    "                        [accuracy], {\n",
    "                            x_input: valX[val_start:val_end],\n",
    "                            y_input: valY[val_start:val_end]\n",
    "                        })\n",
    "                    val_acc += acc[0]\n",
    "                val_acc = val_acc / (batch_size * num_val_batch)\n",
    "                print('val acc: ', val_acc)"
   ]
  },
  {
   "cell_type": "code",
   "execution_count": null,
   "metadata": {},
   "outputs": [],
   "source": []
  }
 ],
 "metadata": {
  "kernelspec": {
   "display_name": "Python 3",
   "language": "python",
   "name": "python3"
  },
  "language_info": {
   "codemirror_mode": {
    "name": "ipython",
    "version": 3
   },
   "file_extension": ".py",
   "mimetype": "text/x-python",
   "name": "python",
   "nbconvert_exporter": "python",
   "pygments_lexer": "ipython3",
   "version": "3.7.7"
  }
 },
 "nbformat": 4,
 "nbformat_minor": 4
}
