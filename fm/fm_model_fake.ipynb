{
 "cells": [
  {
   "cell_type": "code",
   "execution_count": 1,
   "metadata": {},
   "outputs": [],
   "source": [
    "from __future__ import print_function\n",
    "from itertools import count\n",
    "from collections import defaultdict\n",
    "from scipy.sparse import csr\n",
    "import numpy as np"
   ]
  },
  {
   "cell_type": "code",
   "execution_count": 2,
   "metadata": {},
   "outputs": [],
   "source": [
    "def vectorize_dic(dic, ix = None, p=None, flag='nondebug'):\n",
    "    if(ix == None):\n",
    "        d = count(0)\n",
    "        # 自增字典，每新增一个key，value加1\n",
    "        ix = defaultdict(lambda:next(d))\n",
    "    # 每个属性的取值个数最大是多少\n",
    "    n = len(list(dic.values())[0])\n",
    "    print('n: ', n)\n",
    "    # 属性个数\n",
    "    g = len(list(dic.keys()))\n",
    "    print('g: ', g)\n",
    "    # 属性和取值乘积\n",
    "    nz = n*g\n",
    "    if flag=='debug':\n",
    "        print('nz: ', nz)\n",
    "    col_ix = np.empty(nz, dtype = int)\n",
    "    if flag=='debug':\n",
    "        print('col_ix.shape ', col_ix.shape)\n",
    "    i = 0\n",
    "    for k, lis in dic.items():\n",
    "        # ix存放每个属性取值对应的下标，这里是下标放到col_ix数组中，由于一个人有g个属性，所以用col_ix[i::g]的方式\n",
    "        # 例如age属性，第一个用户col_ix下标是0，第二个用户是3，第三个用户是6，第四个是9\n",
    "        # sex属性，第一个用户col_ix下标是1，第二个用户是4，第三个用户是7，第四个是10\n",
    "        col_ix[i::g] = [ix[str(k)+str(el)] for el in lis]\n",
    "        i += 1\n",
    "    # row_ix标示了col_ix中那些属性是同一个人的\n",
    "    row_ix = np.repeat(np.arange(n), g)\n",
    "    data = np.ones(nz)\n",
    "    if flag=='debug':\n",
    "        print('row_ix.shape ', row_ix.shape)\n",
    "        # 暂时不知道是干什么的\n",
    "        print('data.shape ', data.shape)\n",
    "        print('col_ix', col_ix)\n",
    "        print('row_ix', row_ix)\n",
    "        print('ix', ix)\n",
    "        print('len(ix)', len(ix))\n",
    "    if(p == None):\n",
    "        p = len(ix)\n",
    "    ixx = np.where(col_ix < p)\n",
    "    if flag=='debug':\n",
    "        print('p', p)\n",
    "        print('ixx ', ixx)\n",
    "        print('data[ixx]', data[ixx])\n",
    "    return csr.csr_matrix(\n",
    "        (data[ixx], (row_ix[ixx], col_ix[ixx])), shape=(n, p)), ix"
   ]
  },
  {
   "cell_type": "code",
   "execution_count": 3,
   "metadata": {},
   "outputs": [
    {
     "name": "stdout",
     "output_type": "stream",
     "text": [
      "n:  4\n",
      "g:  3\n",
      "  (0, 0)\t1.0\n",
      "  (0, 3)\t1.0\n",
      "  (0, 5)\t1.0\n",
      "  (1, 1)\t1.0\n",
      "  (1, 4)\t1.0\n",
      "  (1, 6)\t1.0\n",
      "  (2, 0)\t1.0\n",
      "  (2, 3)\t1.0\n",
      "  (2, 7)\t1.0\n",
      "  (3, 2)\t1.0\n",
      "  (3, 3)\t1.0\n",
      "  (3, 8)\t1.0\n",
      "[[1. 0. 0. 1. 0. 1. 0. 0. 0.]\n",
      " [0. 1. 0. 0. 1. 0. 1. 0. 0.]\n",
      " [1. 0. 0. 1. 0. 0. 0. 1. 0.]\n",
      " [0. 0. 1. 1. 0. 0. 0. 0. 1.]]\n"
     ]
    }
   ],
   "source": [
    "dic = {'age':[3,2,3,4],'sex':['boy','girl','boy','boy'],'name':['a','b','c','d']}\n",
    "ans,ix = vectorize_dic(dic)\n",
    "ans_dense = ans.todense()\n",
    "print(ans)\n",
    "print(ans_dense)"
   ]
  },
  {
   "cell_type": "code",
   "execution_count": 4,
   "metadata": {},
   "outputs": [
    {
     "name": "stdout",
     "output_type": "stream",
     "text": [
      "n:  90570\n",
      "g:  2\n",
      "n:  9430\n",
      "g:  2\n"
     ]
    }
   ],
   "source": [
    "import pandas as pd\n",
    "import numpy as np\n",
    "from sklearn.feature_extraction import DictVectorizer\n",
    "cols = ['user','item','rating','timestamp']\n",
    "train = pd.read_csv('./ua.base', delimiter='\\t', names=cols)\n",
    "test = pd.read_csv('./ua.test', delimiter='\\t', names=cols)\n",
    "x_train, ix = vectorize_dic({'users':train.user.values,'items':train.item.values})\n",
    "x_test, ix = vectorize_dic({'users':test.user.values, 'items':test.item.values}, ix, x_train.shape[1])\n",
    "y_train = train.rating.values\n",
    "y_test = test.rating.values\n",
    "# x_train这种数据组织的形式：如\n",
    "#(0，0)->1.0，(0, 943)->1.0，是指第0条样本user的取值是第0个特征，item的取值是第943个特征\n",
    "#(1, 0)->1.0，(1, 944)->1.0，是指第0条样本user的取值是第0个特征，item的取值是第944个特征"
   ]
  },
  {
   "cell_type": "code",
   "execution_count": 5,
   "metadata": {},
   "outputs": [
    {
     "name": "stdout",
     "output_type": "stream",
     "text": [
      "  (0, 0)\t1.0\n",
      "  (0, 943)\t1.0\n",
      "  (1, 0)\t1.0\n",
      "  (1, 944)\t1.0\n",
      "  (2, 0)\t1.0\n",
      "  (2, 945)\t1.0\n",
      "  (3, 0)\t1.0\n",
      "  (3, 946)\t1.0\n",
      "  (4, 0)\t1.0\n",
      "  (4, 947)\t1.0\n",
      "(90570, 2623)\n",
      "(9430, 2623)\n",
      "[[1. 0. 0. ... 0. 0. 0.]\n",
      " [1. 0. 0. ... 0. 0. 0.]\n",
      " [1. 0. 0. ... 0. 0. 0.]\n",
      " [1. 0. 0. ... 0. 0. 0.]\n",
      " [1. 0. 0. ... 0. 0. 0.]]\n"
     ]
    }
   ],
   "source": [
    "print(x_train[:5])\n",
    "\n",
    "x_train = x_train.todense()\n",
    "x_test = x_test.todense()\n",
    "\n",
    "print(x_train.shape)\n",
    "print(x_test.shape)\n",
    "print(x_train[:5])"
   ]
  },
  {
   "cell_type": "code",
   "execution_count": 6,
   "metadata": {},
   "outputs": [],
   "source": [
    "import tensorflow as tf\n",
    "\n",
    "n, p = x_train.shape\n",
    "# number of latent factors\n",
    "k = 10\n",
    "# design features of users\n",
    "X = tf.placeholder('float', shape=[None, p])\n",
    "# target vector\n",
    "Y = tf.placeholder('float', shape=[None, 1])\n",
    "# bias and weight\n",
    "w0 = tf.Variable(tf.zeros([1]))\n",
    "W = tf.Variable(tf.zeros([p]))\n",
    "# matrix factorization factors, randomly initialized\n",
    "V = tf.Variable(tf.random_normal([p, k], stddev=0.01))\n",
    "# estimation of y, initialized to 0\n",
    "Y_hat = tf.Variable(tf.zeros([n, 1]))"
   ]
  },
  {
   "cell_type": "code",
   "execution_count": 8,
   "metadata": {},
   "outputs": [
    {
     "name": "stdout",
     "output_type": "stream",
     "text": [
      "(2623,) (?, 2623)\n",
      "(1, 1)\n"
     ]
    }
   ],
   "source": [
    "# linear part\n",
    "linear_terms = tf.add(w0, tf.reduce_sum(tf.multiply(W, X), 1, keep_dims=True))\n",
    "print(W.shape, X.shape)\n",
    "# fm部分\n",
    "pair_interactions = tf.multiply(0.5, \n",
    "tf.reduce_sum(tf.pow(tf.matmul(X,V), 2) - \n",
    "tf.matmul(tf.pow(X, 2), tf.pow(V, 2)),keepdims=True))\n",
    "print(pair_interactions.shape)\n",
    "Y_hat = linear_terms + pair_interactions"
   ]
  },
  {
   "cell_type": "code",
   "execution_count": 9,
   "metadata": {},
   "outputs": [
    {
     "name": "stdout",
     "output_type": "stream",
     "text": [
      "W (2623,) V (2623, 10)\n",
      "l2_norm ()\n",
      "Y (?, 1) Y_hat (?, 1) error ()\n",
      "loss ()\n"
     ]
    }
   ],
   "source": [
    "lambda_w = tf.constant(0.001, name='lambda_w')\n",
    "lambda_v = tf.constant(0.001, name='lambda_v')\n",
    "print('W',W.shape, 'V', V.shape)\n",
    "l2_norm = tf.reduce_sum(tf.multiply(lambda_w, tf.pow(W,2)))+tf.reduce_sum(tf.multiply(lambda_v, tf.pow(V,2)))\n",
    "print('l2_norm', l2_norm.shape)\n",
    "error = tf.reduce_mean(tf.square(tf.subtract(Y, Y_hat)))\n",
    "print('Y', Y.shape, 'Y_hat', Y_hat.shape, 'error', error.shape)\n",
    "loss =  tf.add(error, l2_norm)\n",
    "print('loss', loss.shape)"
   ]
  },
  {
   "cell_type": "code",
   "execution_count": 10,
   "metadata": {},
   "outputs": [
    {
     "name": "stdout",
     "output_type": "stream",
     "text": [
      "WARNING:tensorflow:From /home/huangyajian/repo/anaconda3/lib/python3.7/site-packages/tensorflow/python/ops/math_grad.py:1205: add_dispatch_support.<locals>.wrapper (from tensorflow.python.ops.array_ops) is deprecated and will be removed in a future version.\n",
      "Instructions for updating:\n",
      "Use tf.where in 2.0, which has the same broadcast rule as np.where\n"
     ]
    }
   ],
   "source": [
    "optimizer = tf.train.GradientDescentOptimizer(learning_rate=0.01).minimize(loss)"
   ]
  },
  {
   "cell_type": "code",
   "execution_count": 11,
   "metadata": {},
   "outputs": [],
   "source": [
    "def batcher(X, Y=None, batch_size=-1):\n",
    "    n_samples = X.shape[0]\n",
    "    \n",
    "    if(batch_size == -1):\n",
    "        batch_size = n_samples\n",
    "    if(batch_size < 1):\n",
    "        raise ValueError('Parameter batch_size={} is unsupported'.format(batch_size))\n",
    "    for i in range(0, n_samples, batch_size):\n",
    "        upper_bound = min(i+batch_size, n_samples)\n",
    "        ret_x = X[i:upper_bound]\n",
    "        ret_y = Y[i:upper_bound]\n",
    "        yield(ret_x, ret_y)"
   ]
  },
  {
   "cell_type": "code",
   "execution_count": 12,
   "metadata": {},
   "outputs": [
    {
     "data": {
      "application/vnd.jupyter.widget-view+json": {
       "model_id": "2adf614df4bc44f9bad8752bf2114fc1",
       "version_major": 2,
       "version_minor": 0
      },
      "text/plain": [
       "HBox(children=(IntProgress(value=0, max=2), HTML(value='')))"
      ]
     },
     "metadata": {},
     "output_type": "display_data"
    },
    {
     "name": "stdout",
     "output_type": "stream",
     "text": [
      "\n",
      "1.1053425\n"
     ]
    }
   ],
   "source": [
    "from tqdm import tqdm_notebook as tqdm\n",
    "epoches = 2\n",
    "batch_size = 100\n",
    "\n",
    "init = tf.global_variables_initializer()\n",
    "\n",
    "with tf.Session() as sess:\n",
    "    sess.run(init)\n",
    "    for epoch in tqdm(range(epoches), unit='epoch'):\n",
    "        perm = np.random.permutation(x_train.shape[0])\n",
    "        for bx, by in batcher(x_train[perm], y_train[perm], batch_size):\n",
    "            sess.run(optimizer, feed_dict={\n",
    "                X:bx.reshape(-1, p),\n",
    "                Y:by.reshape(-1, 1)\n",
    "            })\n",
    "    errors = []\n",
    "    for bx, by in batcher(x_test, y_test):\n",
    "        errors.append(sess.run(error, feed_dict={\n",
    "            X:bx.reshape(-1, p),\n",
    "            Y:by.reshape(-1, 1)\n",
    "        }))\n",
    "    RMSE = np.sqrt(np.array(errors).mean())\n",
    "    print(RMSE)"
   ]
  },
  {
   "cell_type": "code",
   "execution_count": null,
   "metadata": {},
   "outputs": [],
   "source": []
  }
 ],
 "metadata": {
  "kernelspec": {
   "display_name": "Python 3",
   "language": "python",
   "name": "python3"
  },
  "language_info": {
   "codemirror_mode": {
    "name": "ipython",
    "version": 3
   },
   "file_extension": ".py",
   "mimetype": "text/x-python",
   "name": "python",
   "nbconvert_exporter": "python",
   "pygments_lexer": "ipython3",
   "version": "3.7.3"
  }
 },
 "nbformat": 4,
 "nbformat_minor": 2
}
