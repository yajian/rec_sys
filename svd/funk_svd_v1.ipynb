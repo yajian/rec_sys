{
 "cells": [
  {
   "cell_type": "code",
   "execution_count": 1,
   "metadata": {},
   "outputs": [],
   "source": [
    "import numpy as np"
   ]
  },
  {
   "cell_type": "code",
   "execution_count": 13,
   "metadata": {},
   "outputs": [],
   "source": [
    "def fit(M, P, Q, K, epoch=1000, alpha=0.1, beta=0.02):\n",
    "    for step in range(epoch):\n",
    "        for i in range(M.shape[0]):\n",
    "            for j in range(M.shape[1]):\n",
    "                if(M[i][j] > 0):\n",
    "                    P[i] = P[i] + alpha * (M[i][j] - np.dot(P[i],Q[j].T))*Q[j]\n",
    "                    Q[j] = P[j] + alpha * (M[i][j] - np.dot(P[i],Q[j].T))*P[i]\n",
    "        loss = 0\n",
    "        num = 0\n",
    "        for i in range(M.shape[0]):\n",
    "            for j in range(M.shape[1]):\n",
    "                if(M[i][j] >0):\n",
    "                    num += 1\n",
    "                    loss += np.power(M[i][j] - np.dot(P[i] , Q[j].T),2)\n",
    "        loss /= num\n",
    "        if(loss < 0.01):\n",
    "            print(\"converge\")\n",
    "            break\n",
    "    return P,Q"
   ]
  },
  {
   "cell_type": "code",
   "execution_count": 14,
   "metadata": {},
   "outputs": [
    {
     "name": "stdout",
     "output_type": "stream",
     "text": [
      "[[4.50445854 3.52002185 0.28640355 0.83467201]\n",
      " [3.51805473 3.13937292 1.80981931 1.87992506]\n",
      " [0.27951868 1.79273913 6.41756006 5.00670457]\n",
      " [0.82603684 1.84575163 4.93167883 3.93065588]\n",
      " [0.21297185 1.40205591 5.03654644 3.92842673]]\n"
     ]
    }
   ],
   "source": [
    "M = [\n",
    "     [5,3,0,1],\n",
    "     [4,0,3,1],\n",
    "     [1,1,0,5],\n",
    "     [1,0,0,4],\n",
    "     [0,1,5,4],\n",
    "    ]\n",
    " \n",
    "M = np.array(M)\n",
    "P = np.random.rand(5,2)\n",
    "Q = np.random.rand(4,2)\n",
    "pre_P,pre_Q = fit(M,P,Q,2)\n",
    "res = np.dot(pre_P,pre_Q.T)\n",
    "print(res)"
   ]
  },
  {
   "cell_type": "code",
   "execution_count": null,
   "metadata": {},
   "outputs": [],
   "source": []
  }
 ],
 "metadata": {
  "kernelspec": {
   "display_name": "Python 3",
   "language": "python",
   "name": "python3"
  },
  "language_info": {
   "codemirror_mode": {
    "name": "ipython",
    "version": 3
   },
   "file_extension": ".py",
   "mimetype": "text/x-python",
   "name": "python",
   "nbconvert_exporter": "python",
   "pygments_lexer": "ipython3",
   "version": "3.7.3"
  }
 },
 "nbformat": 4,
 "nbformat_minor": 2
}
