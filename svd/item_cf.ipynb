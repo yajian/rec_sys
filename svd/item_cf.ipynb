{
 "cells": [
  {
   "cell_type": "code",
   "execution_count": 1,
   "metadata": {},
   "outputs": [],
   "source": [
    "from numpy import corrcoef, mat, shape, nonzero, logical_and\n",
    "import numpy.linalg as la"
   ]
  },
  {
   "cell_type": "code",
   "execution_count": 2,
   "metadata": {},
   "outputs": [],
   "source": [
    "def loadExtData():\n",
    "    return [[4,4,0,2,2],\n",
    "            [4,0,0,3,3],\n",
    "            [4,0,0,1,1],\n",
    "            [1,1,1,2,0],\n",
    "            [2,2,2,0,0],\n",
    "            [1,1,1,0,0],\n",
    "            [5,5,5,0,0]]"
   ]
  },
  {
   "cell_type": "code",
   "execution_count": 3,
   "metadata": {},
   "outputs": [],
   "source": [
    "def cos_sim(inA,inB):\n",
    "    tmp = float(inA.T * inB)\n",
    "    dis = 0.5+0.5*tmp/(la.norm(inA)*la.norm(inB))\n",
    "    return dis"
   ]
  },
  {
   "cell_type": "code",
   "execution_count": 47,
   "metadata": {},
   "outputs": [],
   "source": [
    "def standEst(dataMat, user, simMean, item):\n",
    "    \"\"\"\n",
    "    dataMat: rating matrix,\n",
    "    user: row index,\n",
    "    simMean: sim function,\n",
    "    item: col index\n",
    "    \"\"\"\n",
    "    \n",
    "    # 如果该用户对item有评分，直接返回\n",
    "    if(dataMat[user,item]!=0):\n",
    "        return dataMat[user,item]\n",
    "    # n是dataMat的列，即item\n",
    "    n = shape(dataMat)[1]\n",
    "    # 权制加和\n",
    "    simTotal = 0.0\n",
    "    # 加权和\n",
    "    ratSimTotal = 0.0\n",
    "    for i in range(n):\n",
    "        userRating = dataMat[user,i]\n",
    "        # 如果打分为0则跳过，这里是筛选该用户已打分item\n",
    "        if(userRating==0 or i==item):\n",
    "            continue\n",
    "        # 这里获取已打分item和未打分item的非0部分向量，用于后续计算相似度\n",
    "        overLap = nonzero(logical_and(dataMat[:,i].A>0, dataMat[:,item].A>0))[0]\n",
    "        if(len(overLap) == 0):\n",
    "            similarity = 0\n",
    "        else:\n",
    "            # 计算相似度\n",
    "            similarity = simMean(dataMat[overLap, i], dataMat[overLap, item])\n",
    "        print('processing {} col, rating {}, similarity {}'.format(i, userRating,similarity))\n",
    "        # 相似度加和\n",
    "        simTotal += similarity\n",
    "        # 用已打分item和未打分item的相似度作为权重，对已打分item的分数进行加权\n",
    "        ratSimTotal += similarity * userRating\n",
    "    if(simTotal == 0):\n",
    "        return 0\n",
    "    else: \n",
    "        return ratSimTotal / simTotal # return user's score for item, 加权平均"
   ]
  },
  {
   "cell_type": "code",
   "execution_count": 48,
   "metadata": {},
   "outputs": [],
   "source": [
    "def recommend(dataMat, user, N=3, simMean=cos_sim, estTestMean=standEst):\n",
    "    # 获取user用户未打分item\n",
    "    unRatedItem = nonzero(dataMat[user,:].A == 0)[1]\n",
    "    if(len(unRatedItem) == 0):\n",
    "        print('There is nothing to recommend')\n",
    "    else:\n",
    "        print('not rated item col index:',unRatedItem)\n",
    "    retScores = []\n",
    "    for item in unRatedItem:\n",
    "        print('processing col ', item)\n",
    "        itemScore = estTestMean(dataMat, user, simMean, item)\n",
    "        retScores.append((item,itemScore))\n",
    "        print('col: {}, score: {}'.format(item, itemScore))\n",
    "    return sorted(retScores, key=lambda j:j[1], reverse=True)[:N]"
   ]
  },
  {
   "cell_type": "code",
   "execution_count": 49,
   "metadata": {},
   "outputs": [
    {
     "name": "stdout",
     "output_type": "stream",
     "text": [
      "not rated item col index: [1 2]\n",
      "processing col  1\n",
      "processing 0 col, rating 4, similarity1.0\n",
      "processing 3 col, rating 1, similarity0.928746462856272\n",
      "processing 4 col, rating 1, similarity1.0\n",
      "col: 1, score: 2.0243290220056256\n",
      "processing col  2\n",
      "processing 0 col, rating 4, similarity1.0\n",
      "processing 3 col, rating 1, similarity1.0\n",
      "processing 4 col, rating 1, similarity0\n",
      "col: 2, score: 2.5\n",
      "[(2, 2.5), (1, 2.0243290220056256)]\n"
     ]
    }
   ],
   "source": [
    "myData = mat(loadExtData())\n",
    "ans = recommend(myData, 2)\n",
    "print(ans)"
   ]
  },
  {
   "cell_type": "code",
   "execution_count": null,
   "metadata": {},
   "outputs": [],
   "source": []
  }
 ],
 "metadata": {
  "kernelspec": {
   "display_name": "Python 3",
   "language": "python",
   "name": "python3"
  },
  "language_info": {
   "codemirror_mode": {
    "name": "ipython",
    "version": 3
   },
   "file_extension": ".py",
   "mimetype": "text/x-python",
   "name": "python",
   "nbconvert_exporter": "python",
   "pygments_lexer": "ipython3",
   "version": "3.7.3"
  }
 },
 "nbformat": 4,
 "nbformat_minor": 2
}
