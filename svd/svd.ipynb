{
 "cells": [
  {
   "cell_type": "code",
   "execution_count": 1,
   "metadata": {},
   "outputs": [],
   "source": [
    "from numpy import mat,shape,nonzero,eye\n",
    "import numpy.linalg as la"
   ]
  },
  {
   "cell_type": "code",
   "execution_count": 2,
   "metadata": {},
   "outputs": [],
   "source": [
    "def loadExtData():\n",
    "    # mat A\n",
    "    return [[4,4,0,2,2],\n",
    "            [4,0,0,3,3],\n",
    "            [4,0,0,1,1],\n",
    "            [1,1,1,2,0],\n",
    "            [2,2,2,0,0],\n",
    "            [1,1,1,0,0],\n",
    "            [5,5,5,0,0]]"
   ]
  },
  {
   "cell_type": "code",
   "execution_count": 3,
   "metadata": {},
   "outputs": [
    {
     "name": "stdout",
     "output_type": "stream",
     "text": [
      "(7, 7)\n",
      "(5,)\n",
      "(5, 5)\n",
      "[11.90341619  5.99130503  2.59510658  1.92662869  0.98309238] \n",
      "\n"
     ]
    }
   ],
   "source": [
    "dataMat = loadExtData()\n",
    "U,S,V = la.svd(dataMat)\n",
    "print(shape(U))\n",
    "print(shape(S))\n",
    "print(shape(V))\n",
    "print(S,\"\\n\")"
   ]
  },
  {
   "cell_type": "code",
   "execution_count": 4,
   "metadata": {},
   "outputs": [
    {
     "name": "stdout",
     "output_type": "stream",
     "text": [
      "(7, 5)\n",
      "[[ 3.75882897e+00  3.93552733e+00  3.14268322e-01  2.41213328e+00\n",
      "   2.03313584e+00]\n",
      " [ 4.37098660e+00  7.04080744e-02 -4.62953777e-01  2.71367176e+00\n",
      "   2.58910050e+00]\n",
      " [ 3.51434619e+00 -9.90889288e-02  6.10971280e-01  1.45843497e+00\n",
      "   1.45134300e+00]\n",
      " [ 1.42793888e+00  1.16461243e+00  4.06617551e-01  6.61942661e-01\n",
      "   5.69400307e-01]\n",
      " [ 2.02506118e+00  2.00314495e+00  1.96987305e+00  1.29268899e-04\n",
      "  -4.79169143e-02]\n",
      " [ 1.01253059e+00  1.00157247e+00  9.84936526e-01  6.46344496e-05\n",
      "  -2.39584571e-02]\n",
      " [ 5.06265296e+00  5.00786237e+00  4.92468263e+00  3.23172248e-04\n",
      "  -1.19792286e-01]]\n"
     ]
    }
   ],
   "source": [
    "S_3 = mat([[S[0],0,0],[0,S[1],0],[0,0,S[2]]])\n",
    "restoreData = U[:,:3]*S_3*V[:3,:]\n",
    "print(shape(restoreData))\n",
    "print(restoreData)"
   ]
  },
  {
   "cell_type": "code",
   "execution_count": 5,
   "metadata": {},
   "outputs": [],
   "source": [
    "def cos_sim(inA,inB):\n",
    "    tmp = float(inA.T * inB)\n",
    "    dis = 0.5+0.5*tmp/(la.norm(inA)*la.norm(inB))\n",
    "    return dis"
   ]
  },
  {
   "cell_type": "code",
   "execution_count": 6,
   "metadata": {},
   "outputs": [],
   "source": [
    "def loadExtData2():\n",
    "    return [[0, 0, 0, 0, 0, 4, 0, 0, 0, 0, 5],\n",
    "            [0, 0, 0, 3, 0, 4, 0, 0, 0, 0, 3],\n",
    "            [0, 0, 0, 0, 4, 0, 0, 1, 0, 4, 0],\n",
    "            [3, 3, 4, 0, 0, 0, 0, 2, 2, 0, 0],\n",
    "            [5, 4, 5, 0, 0, 0, 0, 5, 5, 0, 0],\n",
    "            [0, 0, 0, 0, 5, 0, 1, 0, 0, 5, 0],\n",
    "            [4, 3, 4, 0, 0, 0, 0, 5, 5, 0, 1],\n",
    "            [0, 0, 0, 4, 0, 4, 0, 0, 0, 0, 4],\n",
    "            [0, 0, 0, 2, 0, 2, 5, 0, 0, 1, 2],\n",
    "            [0, 0, 0, 0, 5, 0, 0, 0, 0, 4, 0],\n",
    "            [1, 0, 0, 0, 0, 0, 0, 1, 2, 0, 0],\n",
    "            [1, 0, 0, 0, 0, 0, 0, 1, 2, 0, 0]]"
   ]
  },
  {
   "cell_type": "code",
   "execution_count": 26,
   "metadata": {},
   "outputs": [],
   "source": [
    "def svdEst(dataMat, user, simMeas, item, k):\n",
    "    if(dataMat[user, item] != 0): \n",
    "        return dataMat[user, item]\n",
    "    n = shape(dataMat)[1] \n",
    "    simTotal = 0.0;\n",
    "    ratSimTotal = 0.0\n",
    "    # SVD分解\n",
    "    U, S, V = la.svd(dataMat)\n",
    "    # 降维，获取前k个特征值\n",
    "    S3 = mat(eye(k) * S[:k])\n",
    "    # 对item矩阵进行降维操作，把V从（11，11）降到（11，k），推导可参考后面\n",
    "    xformedItems = dataMat.T * U[:, :k] * S3.I\n",
    "    print(shape(xformedItems))\n",
    "    for j in range(n):\n",
    "        userRating = dataMat[user, j]\n",
    "        if(userRating == 0 or j == item): \n",
    "            continue\n",
    "        # 计算未评分item和已评分j的相似度\n",
    "        similarity = simMeas(xformedItems[item, :].T, xformedItems[j, :].T)\n",
    "        # 加权\n",
    "        simTotal += similarity\n",
    "        ratSimTotal += similarity * userRating\n",
    "    if(simTotal == 0):  \n",
    "        return 0\n",
    "    else:   \n",
    "        return ratSimTotal / simTotal"
   ]
  },
  {
   "cell_type": "code",
   "execution_count": 27,
   "metadata": {},
   "outputs": [],
   "source": [
    "def svdRecommend(dataMat, user, N=3, simMean=cos_sim, estTestMean=svdEst, k=3 ):\n",
    "    unRatedItem = nonzero(dataMat[user,:].A == 0)[1] # .A change matrix to array\n",
    "    if(len(unRatedItem) == 0):print('There is nothing to recommend')\n",
    "    retScores = [] # scores of unRatedItems\n",
    "    for item in unRatedItem:\n",
    "        itemScore=estTestMean(dataMat, user, simMean, item, k=k) # predicton of user for item\n",
    "        retScores.append((item, itemScore))\n",
    "    return sorted(retScores, key=lambda j:j[1], reverse=True)[:N]"
   ]
  },
  {
   "cell_type": "code",
   "execution_count": 28,
   "metadata": {},
   "outputs": [],
   "source": [
    "myData = mat(loadExtData2())\n",
    "U, S, V = la.svd(myData)\n",
    "S *= S\n",
    "threshold = sum(S) * 0.9\n",
    "k = 0\n",
    "\n",
    "for i in range(S.shape[0]+1):\n",
    "    if(sum(S[:i]) >= threshold):\n",
    "        k = i\n",
    "        break"
   ]
  },
  {
   "cell_type": "code",
   "execution_count": 29,
   "metadata": {},
   "outputs": [
    {
     "name": "stdout",
     "output_type": "stream",
     "text": [
      "(11, 3)\n",
      "[[-0.00965352 -0.34029577 -0.2272107 ]]\n",
      "[[-0.00965352 -0.34029577 -0.2272107 ]]\n",
      "[[-0.00965352 -0.34029577 -0.2272107 ]]\n",
      "[[-0.00965352 -0.34029577 -0.2272107 ]]\n",
      "[[-0.00965352 -0.34029577 -0.2272107 ]]\n",
      "(11, 3)\n",
      "[[-0.01525086 -0.38739367  0.61205988]]\n",
      "[[-0.01525086 -0.38739367  0.61205988]]\n",
      "[[-0.01525086 -0.38739367  0.61205988]]\n",
      "[[-0.01525086 -0.38739367  0.61205988]]\n",
      "[[-0.01525086 -0.38739367  0.61205988]]\n",
      "(11, 3)\n",
      "[[-0.01596356 -0.52009013 -0.36077717]]\n",
      "[[-0.01596356 -0.52009013 -0.36077717]]\n",
      "[[-0.01596356 -0.52009013 -0.36077717]]\n",
      "[[-0.01596356 -0.52009013 -0.36077717]]\n",
      "[[-0.01596356 -0.52009013 -0.36077717]]\n",
      "(11, 3)\n",
      "[[-0.00454354 -0.18887353 -0.00920021]]\n",
      "[[-0.00454354 -0.18887353 -0.00920021]]\n",
      "[[-0.00454354 -0.18887353 -0.00920021]]\n",
      "[[-0.00454354 -0.18887353 -0.00920021]]\n",
      "[[-0.00454354 -0.18887353 -0.00920021]]\n",
      "(11, 3)\n",
      "[[-0.01548618 -0.39195392  0.5571563 ]]\n",
      "[[-0.01548618 -0.39195392  0.5571563 ]]\n",
      "[[-0.01548618 -0.39195392  0.5571563 ]]\n",
      "[[-0.01548618 -0.39195392  0.5571563 ]]\n",
      "[[-0.01548618 -0.39195392  0.5571563 ]]\n",
      "(11, 3)\n",
      "[[-0.05405688 -0.52053817 -0.36321784]]\n",
      "[[-0.05405688 -0.52053817 -0.36321784]]\n",
      "[[-0.05405688 -0.52053817 -0.36321784]]\n",
      "[[-0.05405688 -0.52053817 -0.36321784]]\n",
      "[[-0.05405688 -0.52053817 -0.36321784]]\n",
      "[(10, 2.79769633703307), (5, 2.797504949270238), (3, 2.797206526468064)]\n"
     ]
    }
   ],
   "source": [
    "svdItems = svdRecommend(myData, user=3, estTestMean=svdEst,k=k)\n",
    "print(svdItems)"
   ]
  },
  {
   "cell_type": "code",
   "execution_count": null,
   "metadata": {},
   "outputs": [],
   "source": []
  }
 ],
 "metadata": {
  "kernelspec": {
   "display_name": "Python 3",
   "language": "python",
   "name": "python3"
  },
  "language_info": {
   "codemirror_mode": {
    "name": "ipython",
    "version": 3
   },
   "file_extension": ".py",
   "mimetype": "text/x-python",
   "name": "python",
   "nbconvert_exporter": "python",
   "pygments_lexer": "ipython3",
   "version": "3.7.3"
  }
 },
 "nbformat": 4,
 "nbformat_minor": 2
}
