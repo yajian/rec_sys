{
 "cells": [
  {
   "cell_type": "code",
   "execution_count": 1,
   "metadata": {},
   "outputs": [],
   "source": [
    "import numpy as np"
   ]
  },
  {
   "cell_type": "code",
   "execution_count": 2,
   "metadata": {},
   "outputs": [],
   "source": [
    "USER_NUM=943\n",
    "ITEM_NUM=1682\n",
    "FACTOR=50"
   ]
  },
  {
   "cell_type": "code",
   "execution_count": 3,
   "metadata": {},
   "outputs": [
    {
     "name": "stdout",
     "output_type": "stream",
     "text": [
      "(943, 50)\n",
      "(1682, 50)\n"
     ]
    }
   ],
   "source": [
    "P=np.random.rand(USER_NUM,FACTOR)/(FACTOR**0.5)\n",
    "Q=np.random.rand(ITEM_NUM,FACTOR)/(FACTOR**0.5)\n",
    "print(P.shape)\n",
    "print(Q.shape)"
   ]
  },
  {
   "cell_type": "code",
   "execution_count": 4,
   "metadata": {},
   "outputs": [],
   "source": [
    "def load_data(path, flag='train', sep='\\t',size=0.8):\n",
    "    with open('./{}'.format(path),'r') as file:\n",
    "        for index,line in enumerate(file):\n",
    "            if index ==0:\n",
    "                continue\n",
    "            rand_num = np.random.rand()\n",
    "            if flag == 'train' :\n",
    "                if rand_num < size :\n",
    "                    u,i,r,t=line.strip('\\r\\n').split(sep)\n",
    "                    yield (int(u)-1,int(i)-1,float(r))\n",
    "            else:\n",
    "                if rand_num >= size:\n",
    "                    u,i,r,t=line.strip('\\r\\n').split(sep)\n",
    "                    yield (int(u)-1,int(i)-1,float(r))"
   ]
  },
  {
   "cell_type": "code",
   "execution_count": 5,
   "metadata": {},
   "outputs": [
    {
     "name": "stdout",
     "output_type": "stream",
     "text": [
      "cost is 196700.96286041357\n",
      "cost is 196700.96286041357\n"
     ]
    }
   ],
   "source": [
    "def train(train_data, random_state=0,epochs=5,theta=1e-4,alpha=0.02,beta=0.02):\n",
    "    current_e = 0.0\n",
    "    old_e = 0.0\n",
    "    cost_of_epoch = []\n",
    "    np.random.seed(random_state)\n",
    "    for epoch in range(epochs):\n",
    "        for index,data in enumerate(train_data):\n",
    "            u,i,rating = data\n",
    "            predict_rating = np.dot(P[u],Q[i].T)\n",
    "            err = rating - predict_rating\n",
    "            current_e += pow(err,2)\n",
    "            P[u] += alpha * (err * Q[i] - beta*P[u])\n",
    "            Q[i] += alpha * (err * P[u] - beta*Q[i])\n",
    "            current_e+=(beta/2)*(sum(pow(P[u],2))+sum(pow(Q[i],2))) #正则项\n",
    "        cost_of_epoch.append(current_e)\n",
    "        print('cost is {}'.format(current_e))\n",
    "        if abs(current_e - old_e) < theta:\n",
    "            break\n",
    "        old_e=current_e\n",
    "        alpha*=0.9\n",
    "train_data = load_data('./u.data')\n",
    "train(train_data)"
   ]
  },
  {
   "cell_type": "code",
   "execution_count": 6,
   "metadata": {},
   "outputs": [
    {
     "name": "stdout",
     "output_type": "stream",
     "text": [
      "1.0050975636907462\n"
     ]
    }
   ],
   "source": [
    "def test_rmse(test_data):\n",
    "    rmse = 0.0\n",
    "    num = 0\n",
    "    for index,data in enumerate(test_data):\n",
    "        u,i,rating = data\n",
    "        num = index+1\n",
    "        predict_rating = np.dot(P[u], Q[i])\n",
    "        rmse += np.power(rating-predict_rating,2)\n",
    "    rmse=(rmse/num)**0.5\n",
    "    return rmse\n",
    "train_data = load_data('./u.data',flag='test')\n",
    "print(test_rmse(train_data))"
   ]
  },
  {
   "cell_type": "code",
   "execution_count": null,
   "metadata": {},
   "outputs": [],
   "source": []
  }
 ],
 "metadata": {
  "kernelspec": {
   "display_name": "Python 3",
   "language": "python",
   "name": "python3"
  },
  "language_info": {
   "codemirror_mode": {
    "name": "ipython",
    "version": 3
   },
   "file_extension": ".py",
   "mimetype": "text/x-python",
   "name": "python",
   "nbconvert_exporter": "python",
   "pygments_lexer": "ipython3",
   "version": "3.7.3"
  }
 },
 "nbformat": 4,
 "nbformat_minor": 2
}
